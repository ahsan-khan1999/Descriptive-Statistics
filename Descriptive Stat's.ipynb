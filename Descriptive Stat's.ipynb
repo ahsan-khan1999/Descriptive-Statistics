{
 "cells": [
  {
   "cell_type": "code",
   "execution_count": 34,
   "metadata": {},
   "outputs": [
    {
     "name": "stdout",
     "output_type": "stream",
     "text": [
      "('Percentile of Zeros entries in capital_gain : ', 91.67383292383292)\n",
      "('Percentile of Zeros entries in capital_loss : ', 95.33476658476658)\n",
      "                age        dfluwg  education_num  hr_per_week \n",
      "count  32560.000000  3.256000e+04   32560.000000  32560.000000\n",
      "mean      38.581634  1.897818e+05      10.080590     40.437469\n",
      "std       13.640642  1.055498e+05       2.572709     12.347618\n",
      "min       17.000000  1.228500e+04       1.000000      1.000000\n",
      "25%       28.000000  1.178315e+05       9.000000     40.000000\n",
      "50%       37.000000  1.783630e+05      10.000000     40.000000\n",
      "75%       48.000000  2.370545e+05      12.000000     45.000000\n",
      "max       90.000000  1.484705e+06      16.000000     99.000000\n",
      "(32560, 12)\n",
      "[' Bachelors' ' HS-grad' ' 11th' ' Masters' ' 9th' ' Some-college'\n",
      " ' Assoc-acdm' ' Assoc-voc' ' 7th-8th' ' Doctorate' ' Prof-school'\n",
      " ' 5th-6th' ' 10th' ' 1st-4th' ' Preschool' ' 12th']\n",
      "[' Married-civ-spouse' ' Divorced' ' Married-spouse-absent'\n",
      " ' Never-married' ' Separated' ' Married-AF-spouse' ' Widowed']\n",
      "[' Exec-managerial' ' Handlers-cleaners' ' Prof-specialty'\n",
      " ' Other-service' ' Adm-clerical' ' Sales' ' Craft-repair'\n",
      " ' Transport-moving' ' Farming-fishing' ' Machine-op-inspct'\n",
      " ' Tech-support' ' ?' ' Protective-serv' ' Armed-Forces'\n",
      " ' Priv-house-serv']\n",
      "[' Husband' ' Not-in-family' ' Wife' ' Own-child' ' Unmarried'\n",
      " ' Other-relative']\n",
      "[' White' ' Black' ' Asian-Pac-Islander' ' Amer-Indian-Eskimo' ' Other']\n",
      "5\n",
      "16\n",
      "7\n",
      "15\n",
      "6\n",
      " Male      21789\n",
      " Female    10771\n",
      "Name: Sex, dtype: int64\n",
      "('After Applying One-Hot-Encoding Shape of Data is', (32560, 114))\n",
      "('Avg age of male having salery > 50k : ', 9)\n",
      "('Avg age of female having salery > 50k : ', 17)\n",
      "('Standard Deviation of male is : ', 0.47051008370122704)\n",
      "('Standard Deviation of female is : ', 0.470510083701227)\n",
      "('Skewness Of male is : ', -0.7192437783111952)\n",
      "('Skewness Of female is : ', 0.7192437783111949)\n",
      "('Mean of Male Age is : ', 38.581633906633904)\n",
      "('Mean of Female Age is : ', 38.581633906633904)\n",
      "('Difference of Mean male and female age : ', 0.0)\n",
      "('Male having Salery > 50K : ', 6662)\n",
      "('Female having Salery < 50K : ', 9592)\n",
      "('Female having Salery > 50K : ', 1179)\n",
      "('Male having Salery > 50K : ', 6662)\n",
      "('Male having Salery < 50K : ', 15127)\n",
      "('Female having Salery < 50K : ', 9592)\n"
     ]
    }
   ],
   "source": [
    "import seaborn as sb\n",
    "import pandas as pd\n",
    "import numpy as np\n",
    "import matplotlib.pyplot as pt\n",
    "# %matplotlib inline\n",
    "from pandas import DataFrame\n",
    "d =  pd.read_csv(\"adult.data\")\n",
    "# print(d)\n",
    "# print(d.head())\n",
    "d.columns = [\"age\",\"Type_employer\",\"dfluwg\",\"education\",\"education_num\",\"marital\",\"occupation\",\"relatioship\",\"race\",\"Sex\",\"capital_gain\",\"capital_loss\",\"hr_per_week \",\"Country\",\"income\"]\n",
    "d= d.replace(to_replace=\" >50K\",value=\"1\")\n",
    "d= d.replace(to_replace=\" <=50K\",value=\"-1\")\n",
    "incomes = pd.Series(d.income)\n",
    "d =d.drop(columns=['income'],axis=1)\n",
    "non_zero_entries = np.count_nonzero(d['capital_gain'], axis=0)\n",
    "non_zero_entrie = np.count_nonzero(d['capital_loss'], axis=0)\n",
    "# print(np.count(d['capital_gain'], axis=0))\n",
    "# d.shape\n",
    "zeros = 32560 - non_zero_entries\n",
    "percentile =  ((zeros / 32560.0) * 100.0)\n",
    "print(\"Percentile of Zeros entries in capital_gain : \",percentile)\n",
    "# print(np.count(d['capital_loss'], axis=0))\n",
    "d.shape\n",
    "zero = 32560 - non_zero_entrie\n",
    "percentile =  ((zero / 32560.0) * 100.0)\n",
    "print(\"Percentile of Zeros entries in capital_loss : \",percentile)\n",
    "# print(d.columns)\n",
    "d=d.drop(columns=['capital_gain','capital_loss'])\n",
    "print(d.describe())\n",
    "print(d.shape)\n",
    "print(d['education'].unique())\n",
    "print(d['marital'].unique())\n",
    "print(d['occupation'].unique())\n",
    "print(d['relatioship'].unique())\n",
    "print(d['race'].unique())\n",
    "print(len(d['race'].unique()))\n",
    "print(len(d['education'].unique()))\n",
    "print(len(d['marital'].unique()))\n",
    "print(len(d['occupation'].unique()))\n",
    "print(len(d['relatioship'].unique()))\n",
    "print(d['Sex'].value_counts())\n",
    "pdf = pd.get_dummies(d[['Sex','education','occupation','relatioship','race','Country','marital','Type_employer']])\n",
    "# print(type(pdf['Sex_ Male']))\n",
    "frames = [d,pdf]\n",
    "\n",
    "df = pd.concat(frames,axis=1,sort=False)\n",
    "print(\"After Applying One-Hot-Encoding Shape of Data is\",df.shape)\n",
    "female_count_salery_gt50 =0\n",
    "male_count_salery_gt50=0\n",
    "female_count_salery_lt50 =0\n",
    "male_count_salery_lt50=0\n",
    "for i in range(0,len(df[\"Sex_ Male\"])):\n",
    "    if(df[\"Sex_ Male\"][i] == 1 and incomes[i] == '1'):\n",
    "        # print(df[\"Sex_ Male\"][i] ,incomes[i])\n",
    "        male_count_salery_gt50 +=1\n",
    "    elif(df[\"Sex_ Female\"][i] == 1 and incomes[i] == '1'):\n",
    "        female_count_salery_gt50 +=1\n",
    "    elif(df[\"Sex_ Male\"][i] == 1 and incomes[i] == '-1'):\n",
    "        male_count_salery_lt50 +=1\n",
    "    else:\n",
    "        female_count_salery_lt50 +=1            \n",
    "count_male_age = 0\n",
    "count_female_age = 0\n",
    "avg_female_age = 0\n",
    "avg_male_age = 0\n",
    "for i in range(0,len(df['age'])):\n",
    "    if df['Sex_ Male'][i] == 1 and incomes[i] == '1':\n",
    "        count_male_age = count_male_age + df['age'][i]\n",
    "    elif df['Sex_ Male'][i] == 1 and incomes[i] == '-1':\n",
    "        count_female_age = count_female_age + df['age'][i]\n",
    "    else:\n",
    "        continue    \n",
    "\n",
    "avg_male_age = int(count_male_age / len(df['age']))\n",
    "avg_female_age = int(count_female_age / len(df['age']))\n",
    "\n",
    "\n",
    "print(\"Avg age of male having salery > 50k : \" , avg_male_age)\n",
    "print(\"Avg age of female having salery > 50k : \" ,avg_female_age)\n",
    "\n",
    "print(\"Standard Deviation of male is : \",df[\"Sex_ Male\"].std())\n",
    "print(\"Standard Deviation of female is : \",df[\"Sex_ Female\"].std())\n",
    "\n",
    "print(\"Skewness Of male is : \",df[\"Sex_ Male\"].skew())\n",
    "print(\"Skewness Of female is : \",df[\"Sex_ Female\"].skew())\n",
    "\n",
    "mean_male_age = 0\n",
    "mean_female_age = 0\n",
    "for i in range(len(df['Sex_ Male'])):\n",
    "    if df['Sex_ Male'][i] == 1:\n",
    "        mean_male_age = df['age'].mean()\n",
    "    else:\n",
    "        mean_female_age = df['age'].mean()\n",
    "\n",
    "print(\"Mean of Male Age is : \",mean_male_age)\n",
    "print(\"Mean of Female Age is : \",mean_female_age)\n",
    "print(\"Difference of Mean male and female age : \",mean_female_age-mean_male_age)\n",
    "\n",
    "\n",
    "\n",
    "\n",
    "list1 = []\n",
    "list2 = []\n",
    "for i in range(0,len(df['Sex_ Male'])):\n",
    "    if df[\"Sex_ Male\"][i] == 1 and incomes[i] == '1':\n",
    "        list1.append(df[\"Sex_ Male\"][i])\n",
    "    elif df[\"Sex_ Female\"][i] == 1 and incomes[i] == '1':\n",
    "        list2.append(df[\"Sex_ Female\"][i])\n",
    "    else:\n",
    "        continue\n",
    "\n",
    "print(\"Male having Salery > 50K : \",male_count_salery_gt50)        \n",
    "print(\"Female having Salery < 50K : \",female_count_salery_lt50)\n",
    "\n",
    "\n",
    "print(\"Female having Salery > 50K : \",female_count_salery_gt50)\n",
    "print(\"Male having Salery > 50K : \",male_count_salery_gt50)\n",
    "print(\"Male having Salery < 50K : \",male_count_salery_lt50)\n",
    "print(\"Female having Salery < 50K : \",female_count_salery_lt50)\n"
   ]
  },
  {
   "cell_type": "code",
   "execution_count": 5,
   "metadata": {},
   "outputs": [
    {
     "name": "stdout",
     "output_type": "stream",
     "text": [
      "AxesSubplot(0.125,0.125;0.775x0.755)\n"
     ]
    },
    {
     "data": {
      "image/png": "[encoded data removed]",
      "text/plain": [
       "<Figure size 432x288 with 1 Axes>"
      ]
     },
     "metadata": {
      "needs_background": "light"
     },
     "output_type": "display_data"
    }
   ],
   "source": [
    "print(sb.boxplot(x = df['Sex_ Male'], y = df['age']))"
   ]
  },
  {
   "cell_type": "code",
   "execution_count": 7,
   "metadata": {},
   "outputs": [
    {
     "name": "stdout",
     "output_type": "stream",
     "text": [
      "AxesSubplot(0.125,0.125;0.775x0.755)\n"
     ]
    },
    {
     "data": {
      "image/png": "[encoded data removed]",
      "text/plain": [
       "<Figure size 432x288 with 1 Axes>"
      ]
     },
     "metadata": {
      "needs_background": "light"
     },
     "output_type": "display_data"
    }
   ],
   "source": [
    "print(sb.boxplot(x = df['Sex_ Female'], y = df['age']))"
   ]
  },
  {
   "cell_type": "code",
   "execution_count": 9,
   "metadata": {},
   "outputs": [
    {
     "data": {
      "text/plain": [
       "Index([u'age', u'Type_employer', u'dfluwg', u'education', u'education_num',\n",
       "       u'marital', u'occupation', u'relatioship', u'race', u'Sex',\n",
       "       ...\n",
       "       u'marital_ Widowed', u'Type_employer_ ?', u'Type_employer_ Federal-gov',\n",
       "       u'Type_employer_ Local-gov', u'Type_employer_ Never-worked',\n",
       "       u'Type_employer_ Private', u'Type_employer_ Self-emp-inc',\n",
       "       u'Type_employer_ Self-emp-not-inc', u'Type_employer_ State-gov',\n",
       "       u'Type_employer_ Without-pay'],\n",
       "      dtype='object', length=114)"
      ]
     },
     "execution_count": 9,
     "metadata": {},
     "output_type": "execute_result"
    }
   ],
   "source": [
    "df.columns"
   ]
  },
  {
   "cell_type": "code",
   "execution_count": 10,
   "metadata": {},
   "outputs": [
    {
     "name": "stdout",
     "output_type": "stream",
     "text": [
      "AxesSubplot(0.125,0.125;0.775x0.755)\n"
     ]
    },
    {
     "data": {
      "image/png": "[encoded data removed]",
      "text/plain": [
       "<Figure size 432x288 with 1 Axes>"
      ]
     },
     "metadata": {
      "needs_background": "light"
     },
     "output_type": "display_data"
    }
   ],
   "source": [
    "print(sb.boxplot(x = df['age'], y = df['Type_employer']))"
   ]
  },
  {
   "cell_type": "code",
   "execution_count": 12,
   "metadata": {},
   "outputs": [
    {
     "name": "stdout",
     "output_type": "stream",
     "text": [
      "AxesSubplot(0.125,0.125;0.775x0.755)\n"
     ]
    },
    {
     "data": {
      "image/png": "[encoded data removed]",
      "text/plain": [
       "<Figure size 432x288 with 1 Axes>"
      ]
     },
     "metadata": {
      "needs_background": "light"
     },
     "output_type": "display_data"
    }
   ],
   "source": [
    "print(sb.boxplot(x = df['education_num'], y = df['race']))"
   ]
  },
  {
   "cell_type": "code",
   "execution_count": 13,
   "metadata": {},
   "outputs": [
    {
     "name": "stdout",
     "output_type": "stream",
     "text": [
      "AxesSubplot(0.125,0.125;0.775x0.755)\n"
     ]
    },
    {
     "data": {
      "image/png": "[encoded data removed]",
      "text/plain": [
       "<Figure size 432x288 with 1 Axes>"
      ]
     },
     "metadata": {
      "needs_background": "light"
     },
     "output_type": "display_data"
    }
   ],
   "source": [
    "print(sb.boxplot(x = df['age'], y = df['relatioship']))"
   ]
  },
  {
   "cell_type": "code",
   "execution_count": 17,
   "metadata": {},
   "outputs": [
    {
     "name": "stdout",
     "output_type": "stream",
     "text": [
      "AxesSubplot(0.125,0.125;0.775x0.755)\n"
     ]
    },
    {
     "data": {
      "image/png": "[encoded data removed]",
      "text/plain": [
       "<Figure size 432x288 with 1 Axes>"
      ]
     },
     "metadata": {
      "needs_background": "light"
     },
     "output_type": "display_data"
    }
   ],
   "source": [
    "print(sb.lineplot(x = df['Sex'], y = df['education_num']))"
   ]
  },
  {
   "cell_type": "code",
   "execution_count": 33,
   "metadata": {},
   "outputs": [],
   "source": [
    "# print(sb.lineplot(x = male_count_salery_gt50, y =female_count_salery_gt50))"
   ]
  },
  {
   "cell_type": "code",
   "execution_count": 32,
   "metadata": {},
   "outputs": [
    {
     "name": "stdout",
     "output_type": "stream",
     "text": [
      "AxesSubplot(0.125,0.125;0.775x0.755)\n"
     ]
    },
    {
     "data": {
      "image/png": "[encoded data removed]",
      "text/plain": [
       "<Figure size 432x288 with 1 Axes>"
      ]
     },
     "metadata": {
      "needs_background": "light"
     },
     "output_type": "display_data"
    }
   ],
   "source": [
    "print(sb.scatterplot(x='Sex_ Male', y='age', data=df))"
   ]
  },
  {
   "cell_type": "code",
   "execution_count": null,
   "metadata": {},
   "outputs": [],
   "source": [
    "# df.plot.line(x='age', y=list1)    \n",
    "\n",
    "\n",
    "\n",
    "\n",
    "\n",
    "\n",
    "\n",
    "# for i in range(0,len(df['age'])):\n",
    "#     if df['Sex_ Male'][i] == 1 and df['age'][i] == avg_male_age:\n",
    "\n",
    "\n",
    "# avg = 0\n",
    "# avg_fe =0\n",
    "# for i in range(0,len(d[\"age\"])):\n",
    "#     if(df[\"Sex_ Male\"][i] == 1 and incomes[i] == '1'):\n",
    "#         avg = d['age'][i].mean()\n",
    "#     elif(df[\"Sex_ Female\"][i] == 1 and incomes[i] == '-1'):\n",
    "#         avg_fe = d['age'][i].mean()            \n",
    "   \n",
    "#     else:\n",
    "#         continue\n",
    "        \n",
    "\n",
    "# print(avg)\n",
    "# print(avg_fe)\n",
    "# print(\"Mean Difference Btw Female And Male Age\",avg_fe - avg)\n",
    "\n",
    "# print(df.skew(axis =0))\n",
    "\n",
    "# graph = pt.scatter(x ='Female' , y = 'female_count_salery_gt50')\n",
    "# print(graph)\n",
    "\n",
    "# print(sb.boxplot(x='age', y='Sex_ Male', data=df))\n",
    "# print(\"Female having Salery > 50K : \",female_count_salery_gt50)\n",
    "\n",
    "# print(\"Male having Salery < 50K : \",male_count_salery_lt50)\n",
    "\n",
    "# print(df['Sex_ Male'].std())\n",
    "# avg =( female_count_salery_gt50 / 10771.0)\n",
    "# print(avg)\n",
    " \n",
    "# \n",
    "# avg_age_male_count_salery_gt50 = male_count_salery_gt50 / male_count\n",
    "# ----imp wokk up\n",
    "# print()\n",
    "\n",
    "# for i in range(0,len(df[\"Sex_ Male\"])):\n",
    "#     if(df[\"Sex_ Male\"][i] == 1):\n",
    "#         # print(d['age'][i])\n",
    "#         avg_male_age = ((d['age'][i] / male_count) * 32560)\n",
    "        \n",
    "#     else:\n",
    "#         avg_female_age =( (d['age'][i] / female_count) * 32560)\n",
    "\n",
    "# print(avg_male_age)\n",
    "# print(avg_female_age)\n",
    "# avg_age_fe = df['Sex_ Female'].mean()\n",
    "# avg_age_ma = df['Sex_ Male'].mean()\n",
    "# print(avg_age_fe * )\n",
    "# print(avg_age_ma)\n",
    "# avg_male_age = 0\n",
    "# avg_female_age =0 \n",
    "\n",
    "\n",
    "\n",
    "# male_count =0\n",
    "# female_count=0\n",
    "# for i in range(0,len(df[\"Sex_ Male\"])):\n",
    "#     if(df[\"Sex_ Male\"][i] == 1):\n",
    "#         print()\n",
    "#     else:\n",
    "#         female_count +=1   \n",
    "# print(\"Standard Deviation of Male : \",df[\"Sex_ Male\"].std())\n",
    "# print(\"Standard Deviation of Female : \",df[\"Sex_ Female\"].std())\n",
    "\n",
    "# print(male_count.std())\n",
    "# print(female_count.std())\n",
    "\n",
    "\n",
    "\n",
    "\n",
    "\n",
    "# print(d[d.loc(\"Sex\")])\n",
    "# print(df[\"Sex_ Male\"])\n",
    "# print(df[\"Sex_ Male\"].equals('1'))\n",
    "# print(df[\"Sex_ Female\"].equals(0))\n",
    "# rows = d[\"Sex\"].loc[\"Male\"]\n",
    "# print(type(rows))\n",
    "# print(df['Sex_ Male'].loc[0])\n",
    "# print(d.columns)\n",
    "# print(incomes[0])\n",
    "# male_count = incomes == '0'  & df['Sex'] = '1' \n",
    "# print(df[df[Sex_ Male == \"Male\"]])\n",
    "\n",
    "\n",
    "\n",
    "# for i in range(len(incomes)):\n",
    "#     if(incomes[i] == \"1\"):\n",
    "#         if(df[df[\"Male_ Sex\"] ==  \"1\"]):\n",
    "#             # print(\"Male\")\n",
    "#             male_count_salery_gt50 +=1\n",
    "#         else:\n",
    "#             female_count_salery_gt50 +=1\n",
    "\n",
    "#     else:\n",
    "#         if(df.loc[\"Sex_ Male\"] ==  \"1\"]):\n",
    "#             male_count_salery_lt50 +=1\n",
    "#         else:\n",
    "#             female_count_salery_lt50 +=1 \n",
    "                       \n",
    "\n",
    "# print(d.head())\n",
    "# print(incomes)\n",
    "# for i in range(len(incomes)):\n",
    "#     if(incomes[i] == \"1\"):\n",
    "#         if(d[\"Sex\"] ==  str(\"Male\")).any():\n",
    "#             # print(\"Ma\")\n",
    "#             male_count +=1\n",
    "#         elif (d[\"Sex\"] ==  str(\"Female\")).any():\n",
    "#             female_count +=1\n",
    "#         else:\n",
    "#             male_count = male_count\n",
    "#             female_count = female_count\n",
    "#     else:\n",
    "#         print(\"this\")\n",
    "# for i in range(len(incomes)):\n",
    "#     if (incomes[i] == \"1\" ):\n",
    "#         if((pdf[\"Sex_ Male\"] == 1)):\n",
    "#             male_count +=1\n",
    "#         else:\n",
    "#             female_count +=1    \n",
    "\n",
    "#         # for j in pdf['Sex_ Male']:\n",
    "        \n",
    "\n",
    "# for i in d[\"Sex\"]:\n",
    "#     if(i == \"Male\"):\n",
    "#         for i in range(len(incomes)):\n",
    "#             if(incomes[i] == \"1\"):\n",
    "#                 male_count +=1\n",
    "#             else:\n",
    "#                 continue    \n",
    "#     else:\n",
    "#         for i in range(len(incomes)):\n",
    "#             if(incomes[i] == \"-1\"):\n",
    "#                 female_count +=1\n",
    "#             else:\n",
    "#                 continue    \n",
    "\n",
    "\n",
    "\n",
    "\n",
    "\n",
    "\n",
    "\n",
    "\n",
    "\n",
    "\n",
    "\n",
    "\n",
    "\n",
    "\n",
    "\n",
    "\n",
    "\n",
    "# avg = 0\n",
    "# avg_fe =0\n",
    "# for i in range(0,len(d[\"age\"])):\n",
    "#     if(df[\"Sex_ Male\"][i] == 1 and incomes[i] == '1'):\n",
    "#         avg = d['age'][i].mean()\n",
    "#     elif(df[\"Sex_ Female\"][i] == 1 and incomes[i] == '-1'):\n",
    "#         avg_fe = d['age'][i].mean()            \n",
    "   \n",
    "#     else:\n",
    "#         continue\n",
    "        \n",
    "\n",
    "# print(avg)\n",
    "# print(avg_fe)\n",
    "# print(\"Mean Difference Btw Female And Male Age\",avg_fe - avg)\n",
    "\n",
    "# print(df.skew(axis =0))\n",
    "\n",
    "# graph = pt.scatter(x ='Female' , y = 'female_count_salery_gt50')\n",
    "# print(graph)\n",
    "\n",
    "# print(sb.boxplot(x='age', y='Sex_ Male', data=df))\n",
    "# print(df['Sex_ Male'].std())\n",
    "# avg =( female_count_salery_gt50 / 10771.0)\n",
    "# print(avg)\n",
    " \n",
    "# \n",
    "# avg_age_male_count_salery_gt50 = male_count_salery_gt50 / male_count\n",
    "# ----imp wokk up\n",
    "# print()\n",
    "\n",
    "# for i in range(0,len(df[\"Sex_ Male\"])):\n",
    "#     if(df[\"Sex_ Male\"][i] == 1):\n",
    "#         # print(d['age'][i])\n",
    "#         avg_male_age = ((d['age'][i] / male_count) * 32560)\n",
    "        \n",
    "#     else:\n",
    "#         avg_female_age =( (d['age'][i] / female_count) * 32560)\n",
    "\n",
    "# print(avg_male_age)\n",
    "# print(avg_female_age)\n",
    "# avg_age_fe = df['Sex_ Female'].mean()\n",
    "# avg_age_ma = df['Sex_ Male'].mean()\n",
    "# print(avg_age_fe * )\n",
    "# print(avg_age_ma)\n",
    "# avg_male_age = 0\n",
    "# avg_female_age =0 \n",
    "\n",
    "\n",
    "\n",
    "# male_count =0\n",
    "# female_count=0\n",
    "# for i in range(0,len(df[\"Sex_ Male\"])):\n",
    "#     if(df[\"Sex_ Male\"][i] == 1):\n",
    "#         print()\n",
    "#     else:\n",
    "#         female_count +=1   \n",
    "# print(\"Standard Deviation of Male : \",df[\"Sex_ Male\"].std())\n",
    "# print(\"Standard Deviation of Female : \",df[\"Sex_ Female\"].std())\n",
    "\n",
    "# print(male_count.std())\n",
    "# print(female_count.std())\n",
    "\n",
    "\n",
    "\n",
    "\n",
    "\n",
    "# print(d[d.loc(\"Sex\")])\n",
    "# print(df[\"Sex_ Male\"])\n",
    "# print(df[\"Sex_ Male\"].equals('1'))\n",
    "# print(df[\"Sex_ Female\"].equals(0))\n",
    "# rows = d[\"Sex\"].loc[\"Male\"]\n",
    "# print(type(rows))\n",
    "# print(df['Sex_ Male'].loc[0])\n",
    "# print(d.columns)\n",
    "# print(incomes[0])\n",
    "# male_count = incomes == '0'  & df['Sex'] = '1' \n",
    "# print(df[df[Sex_ Male == \"Male\"]])\n",
    "\n",
    "\n",
    "\n",
    "# for i in range(len(incomes)):\n",
    "#     if(incomes[i] == \"1\"):\n",
    "#         if(df[df[\"Male_ Sex\"] ==  \"1\"]):\n",
    "#             # print(\"Male\")\n",
    "#             male_count_salery_gt50 +=1\n",
    "#         else:\n",
    "#             female_count_salery_gt50 +=1\n",
    "\n",
    "#     else:\n",
    "#         if(df.loc[\"Sex_ Male\"] ==  \"1\"]):\n",
    "#             male_count_salery_lt50 +=1\n",
    "#         else:\n",
    "#             female_count_salery_lt50 +=1 \n",
    "                       \n",
    "\n",
    "# print(d.head())\n",
    "# print(incomes)\n",
    "# for i in range(len(incomes)):\n",
    "#     if(incomes[i] == \"1\"):\n",
    "#         if(d[\"Sex\"] ==  str(\"Male\")).any():\n",
    "#             # print(\"Ma\")\n",
    "#             male_count +=1\n",
    "#         elif (d[\"Sex\"] ==  str(\"Female\")).any():\n",
    "#             female_count +=1\n",
    "#         else:\n",
    "#             male_count = male_count\n",
    "#             female_count = female_count\n",
    "#     else:\n",
    "#         print(\"this\")\n",
    "# for i in range(len(incomes)):\n",
    "#     if (incomes[i] == \"1\" ):\n",
    "#         if((pdf[\"Sex_ Male\"] == 1)):\n",
    "#             male_count +=1\n",
    "#         else:\n",
    "#             female_count +=1    \n",
    "\n",
    "#         # for j in pdf['Sex_ Male']:\n",
    "        \n",
    "\n",
    "# for i in d[\"Sex\"]:\n",
    "#     if(i == \"Male\"):\n",
    "#         for i in range(len(incomes)):\n",
    "#             if(incomes[i] == \"1\"):\n",
    "#                 male_count +=1\n",
    "#             else:\n",
    "#                 continue    \n",
    "#     else:\n",
    "#         for i in range(len(incomes)):\n",
    "#             if(incomes[i] == \"-1\"):\n",
    "#                 female_count +=1\n",
    "#             else:\n",
    "#                 continue    \n",
    "\n",
    "\n"
   ]
  }
 ],
 "metadata": {
  "kernelspec": {
   "display_name": "Python 2",
   "language": "python",
   "name": "python2"
  },
  "language_info": {
   "codemirror_mode": {
    "name": "ipython",
    "version": 2
   },
   "file_extension": ".py",
   "mimetype": "text/x-python",
   "name": "python",
   "nbconvert_exporter": "python",
   "pygments_lexer": "ipython2",
   "version": "2.7.16"
  }
 },
 "nbformat": 4,
 "nbformat_minor": 2
}
